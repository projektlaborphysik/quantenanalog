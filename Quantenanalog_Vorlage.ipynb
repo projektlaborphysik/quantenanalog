{
 "cells": [
  {
   "cell_type": "markdown",
   "metadata": {},
   "source": [
    "# Quantenanalog\n"
   ]
  },
  {
   "cell_type": "markdown",
   "metadata": {},
   "source": [
    "## Einleitung\n",
    "\n",
    "In diesem Dokument sind die Schritte für die ferngesteuerte Verwendung des Quantenanaloges beschrieben. Einige Abschnitte, wie die Installation und der Start der Dienste auf dem Raspberry Pi sind für die Studierenden nicht wichtig, aber zur Vollständigkeit aufgeführt. Die anderen Abschnitte sollten zur Nutzung des Versuches durchgearbeitet werden. Es wird auch auf die zur Steuerung verwendeten Schnittstellen und Funktionen eingegangen.\n",
    "\n",
    "## Hinweise zum Umgang mit Jupyter-Notebook\n",
    "\n",
    "Das Experiment wird mittels eines Jupyter-Notebooks gesteuert. Für die Nutzung werden in diesem Abschnitt einige Hinweise gegeben. \n",
    "\n",
    "### Allgemein\n",
    "Bei Jupyter-Notebook handelt es sich um eine Schnittstelle zu einem Python-Prozess. Der Prozess kann dabei auf dem eigenen Computer oder auf einem anderen Computer (hier einem Raspberry Pi) laufen.\n",
    "\n",
    "Der Code wird dabei nacheinander in Zellen ausgeführt. Alternativ lassen sich in den Zellen Schritte kommentieren und Gleichungen aufschreiben. Dafür wird Markdown (https://markdown.de/), LaTeX-Syntax (für Gleichungen bspw. $E=mc^2$) oder HTML verwendet.\n",
    "\n",
    "Eine neue Zelle kann über den Button <img src=\"QA_neue_Zelle.png\"> erstellt werden.\n",
    "\n",
    "Der in einer Zelle aufgeführte Code wird mit ``SHIFT`` + ``ENTER`` ausgeführt. Die dabei erstellten Variablen bleiben für weitere Rechenschritte erhalten.\n",
    "\n",
    "Einige weitere nützliche Tastenkombinationen sind in der folgenden Tabelle aufgeführt.\n",
    "\n",
    "\n",
    "Funktion | Tastenkombination\n",
    "      :--|:---\n",
    "neue Zelle oberhalb einfügen | ``a`` (im Navigationsmodus)\n",
    "neue Zelle unterhalb einfügen | ``b`` (im Navigationsmodus)\n",
    "Löschen einer Zelle | doppelt ``d`` (im Navigationsmodus)\n",
    "Ausführen einer Zelle | ``SHIFT`` + ``ENTER``\n",
    "\n",
    "Für weitere Informationen zu Jupyter-Notebook sei beispielsweise auf die folgenden Internetseiten verwiesen:\n",
    "* https://realpython.com/jupyter-notebook-introduction/\n",
    "* https://jupyter-notebook.readthedocs.io/en/stable/index.html\n",
    "\n",
    "### Erweiterungen\n",
    "\n",
    "Für Jupyter-Notebook sind Erweiterungen vorhanden, von denen drei hier Installiert sind und über die folgenden Schaltflächen aktiviert werden können:\n",
    "\n",
    "<img src=\"QA_Erweiterungen.png\">\n",
    "\n",
    "* Die erste Erweiterung aktiviert Zeilennummern in den Code-Zellen, was die Kommunikation bei geteiltem Bildschirm vereinfacht.\n",
    "* Über den Variablen-Inspector werden die momentan im Prozess vorhandenen Variablen angezeigt.\n",
    "* Es kann ein Inhaltsverzeichnis angezeigt werden, welches die Navigation im Dokument erleichtert.\n",
    "\n",
    "### Herunterladen von Messdaten\n",
    "Das Kopieren der Daten vom Raspberry Pi auf den eigenen Computer kann direkt über den Browser geschehen:\n",
    "* ``File`` $\\rightarrow$ ``Open...``\n",
    "* zur Datei navigieren\n",
    "* Datei mit Kästchen auswählen\n",
    "* Download"
   ]
  },
  {
   "cell_type": "markdown",
   "metadata": {},
   "source": [
    "## Vorbereitung"
   ]
  },
  {
   "cell_type": "markdown",
   "metadata": {},
   "source": [
    "### Installation auf dem Rasperry Pi\n",
    "\n",
    "Die folgenden Schritte müssen bei der Neueinrichtung des Raspberry Pis für das Experiment durchgeführt werden. Für den Fernzugriff ist keine Softwareinstallation auf den Computern der Studierenden notwendig. \n",
    "\n",
    "* Jupyter-Notebook installieren\n",
    "    * ``sudo pip3 install --upgrade pip``\n",
    "    * ``sudo pip3 install jupyter``\n",
    "\n",
    "* Sounddevice installieren\n",
    "    * ``pip3 install sounddevice``\n",
    "    * Download PortAudio http://files.portaudio.com/download.html\n",
    "    * ``cd portaudio``\n",
    "    * ``./configure``\n",
    "    * ``sudo make install``\n",
    "    * ``sudo apt-get install libportaudio2``\n",
    "\n",
    "* Weitere Bibliotheken installieren\n",
    "    * ``pip3 install matplotlib``\n",
    "    * ``pip3 install numpy``\n",
    "    * ``pip3 install scipy``\n",
    "* Erweiterungen für Jupyter-Notebook installieren\n",
    "    * ``sudo pip3 install jupyter_contrib_nbextensions``\n",
    "    * ``jupyter contrib nbextension install --user``\n",
    "    * ``jupyter nbextension enable toc2/main`` (Inhaltsverzeichnis)\n",
    "    * ``jupyter nbextension enable varInspector/main`` (Variablenbetrachter)\n",
    "    * ``jupyter nbextension enable toggle_all_line_numbers/main`` (Zeilennummerierung)\n",
    "    \n",
    "* Motion installieren und konfigurieren (Programm zum Erstellen eines Streams der Webcam)\n",
    "    * Einrichtung erfolgt nach https://tutorials-raspberrypi.de/raspberry-pi-ueberwachungskamera-livestream-einrichten/\n",
    "    * ``sudo apt-get install motion -y``\n",
    "    * ``sudo nano /etc/motion/motion.conf`` Anpassung einiger Einstellungen\n",
    "        * ``daemon on``\n",
    "        * ``stream_localhost off``\n",
    "        * ``target_dir /home/pi/Monitor``\n",
    "    * ``sudo nano /etc/default/motion`` ersetzen von 'no' durch 'yes'\n",
    "        * ``start_motion_daemon=yes``\n",
    "    * ``mkdir /home/pi/Monitor``\n",
    "    * ``sudo chgrp motion /home/pi/Monitor``\n",
    "    * ``chmod g+rwx /home/pi/Monitor``\n",
    "* Dynamisches DNS\n",
    "    * Falls der Zugriff über dynamisches DNS erfolgt, ist auch die Einrichtung eines DNS-Clients notwendig.\n",
    "    * ``sudo apt-get install ddclient``"
   ]
  },
  {
   "cell_type": "markdown",
   "metadata": {},
   "source": [
    "### Aufbau\n",
    "\n",
    "Der experimentelle Aubau wird über ein 12 V-Netzteil versorgt, welches diese Spannung direkt an den Treiber des Schrittmotors und über einen Step-Down Konverter (auf 5 V) an den Raspberry Pi weitergibt. Auf dem Raspberry Pi läuft der Jupyer-Notebook Server. Mit drei Pins der GPIO-Schnittstelle kann aus Python heraus über einen Pegelwandler mit dem Treiber des Schrittmotors kommuniziert werden.\n",
    "\n",
    "Der Schrittmotor kann den Kugelresonator über einen auf dem Resonator sitzenden Zahnkranz drehen.\n",
    "Der Winkel des Resonators wird über den Raspberry Pi mit einer Webcam übertragen.\n",
    "\n",
    "Die Ansteuerung von Mikrophon und Lautsprecher im Kugelresonator geschieht über eine USB-Soundkarte, auf welche ebenfalls über den Jupyter-Notebook Server zugegriffen werden kann.\n",
    "\n",
    "In den folgenden Graphiken ist der Versuchsaufbau abgebildet.\n",
    "\n",
    "<img src=\"QA_Aufbau1.png\">\n",
    "\n",
    "<img src=\"QA_Aufbau2.png\">"
   ]
  },
  {
   "cell_type": "markdown",
   "metadata": {},
   "source": [
    "### Start der Dienste\n",
    "\n",
    "Die folgenden Programme werden auf dem Raspberry Pi vor Beginn des Experimentes gestartet.\n",
    "\n",
    "* Jupyter-Notebook im Netzwerk starten\n",
    "    * ``jupyter-notebook --ip 192.168.1.123 --port 8888`` mit der tatsächlichen IP des Raspberry Pis im lokalen Netzwerk.\n",
    "    * Das Notebook ist dann innerhalb des lokalen Netzwerkes über den Port 8888 erreichtbar http://192.168.1.123:8888 .\n",
    "    * Erfolgt der Zugriff von außerhalb muss durch den Router auf den entsprechenden Port weitergeleitet werden.\n",
    "* Motion starten\n",
    "    * ``sudo motion start``\n",
    "    * Die Webcam ist dann innerhalb des lokalen Netzwerkes über den Port 8081 erreichbar http://192.168.1.123:8081 .\n",
    "    * Erfolgt der Zugriff von außerhalb muss durch den Router auf den entsprechenden Port weitergeleitet werden.\n",
    "* Dynamisches DNS\n",
    "    * ``sudo ddclient``\n",
    "    * In diesem Fall sind Jupyer-Notebook und Kamera erreichbar unter http://quantenanalog.exphy.de:8888 und http://quantenanalog.exphy.de:8081 ."
   ]
  },
  {
   "cell_type": "markdown",
   "metadata": {},
   "source": [
    "## Steuerung\n",
    "\n",
    "Für die Steuerung des Quantenanaloges können Mikrophon, Lautsprecher und Resonator-Winkel mit Python angesteuert werden. In diesem Abschnitt wird auf die konkrete Umsetzung eingegangen. Die hier aufgeführten Funktionen müssen vor Beginn der Messungen ausgeführt und damit definiert werden."
   ]
  },
  {
   "cell_type": "markdown",
   "metadata": {},
   "source": [
    "### Ton\n",
    "Der Betrieb von Mikrophon und Lautsprecher erfolgt über eine USB-Soundkarte und die Bibliothek Sounddevice (https://python-sounddevice.readthedocs.io/)."
   ]
  },
  {
   "cell_type": "code",
   "execution_count": null,
   "metadata": {},
   "outputs": [],
   "source": [
    "import sounddevice as sd"
   ]
  },
  {
   "cell_type": "markdown",
   "metadata": {},
   "source": [
    "Zu Beginn können die vorhandenen Audio-Schnittstellen angezeigt werden:"
   ]
  },
  {
   "cell_type": "code",
   "execution_count": 4,
   "metadata": {},
   "outputs": [
    {
     "data": {
      "text/plain": [
       "   0 bcm2835 HDMI 1: - (hw:0,0), ALSA (0 in, 8 out)\n",
       "   1 bcm2835 Headphones: - (hw:1,0), ALSA (0 in, 8 out)\n",
       "*  2 USB Audio Device: - (hw:2,0), ALSA (1 in, 2 out)\n",
       "   3 sysdefault, ALSA (0 in, 128 out)\n",
       "   4 lavrate, ALSA (0 in, 128 out)\n",
       "   5 samplerate, ALSA (0 in, 128 out)\n",
       "   6 speexrate, ALSA (0 in, 128 out)\n",
       "   7 pulse, ALSA (32 in, 32 out)\n",
       "   8 upmix, ALSA (0 in, 8 out)\n",
       "   9 vdownmix, ALSA (0 in, 6 out)\n",
       "  10 dmix, ALSA (0 in, 2 out)\n",
       "  11 default, ALSA (32 in, 32 out)"
      ]
     },
     "execution_count": 4,
     "metadata": {},
     "output_type": "execute_result"
    }
   ],
   "source": [
    "sd.query_devices()"
   ]
  },
  {
   "cell_type": "markdown",
   "metadata": {},
   "source": [
    "Die USB Sounkarte ``USB Audio Device`` wird nun entsprechend ihrer Nummer ausgewählt. Die Nummer muss in folgender Zelle ggf. angepasst werden."
   ]
  },
  {
   "cell_type": "code",
   "execution_count": null,
   "metadata": {},
   "outputs": [],
   "source": [
    "sd.default.device = 2"
   ]
  },
  {
   "cell_type": "markdown",
   "metadata": {},
   "source": [
    "Für dieses Experiment ist das zentrale Element dieser Bibliothek die Funktion\n",
    "\n",
    "``sd.playrec(Signal, SampleRate, channels=1)``,\n",
    "\n",
    "welche eine Signal in Form eines numpy-Arrays übergeben bekommt und abspielt. Zeitgleich wird eine Aufnahme durchgeführt und das Ergebnis durch die Funktion zurückgegeben. Dabei ist zu beachten, dass im Anschluss direkt\n",
    "``sd.wait()`` ausgeführt werden sollte, damit das Programm wartet, bis der Aufnahme-Vorgang abgeschlossen ist.\n",
    "\n",
    "Die folgenden Funktionen der PG454 geben mit dieser Bibliothek verschiedene Signalformen aus. Ebenso wurde ein vereinfachter Aufruf für eine Fouriertransformation ``doFFT()`` implementiert. Die Funktionen können gerne kommentiert und erweitert werden."
   ]
  },
  {
   "cell_type": "code",
   "execution_count": null,
   "metadata": {},
   "outputs": [],
   "source": [
    "import sounddevice as sd\n",
    "import numpy as np\n",
    "import scipy.fftpack\n",
    "import matplotlib.pyplot as plt\n",
    "from scipy.io.wavfile import write\n",
    "\n",
    "# Ausgabe eines Sinus-Signals\n",
    "def PlaySine(Frequency, Duration):\n",
    "    fs = 44100\n",
    "    t = np.linspace(0,Duration,fs*Duration)\n",
    "    signal = 0.9*np.sin(t*Frequency*2*np.pi)\n",
    "    myrecording = sd.playrec(signal, fs, channels=1)\n",
    "    sd.wait()\n",
    "    myrecording = myrecording[:,0]\n",
    "    return myrecording\n",
    "\n",
    "# Erzeugen von weißem Rauschen\n",
    "def white_noise(time_length):\n",
    "    fs = 44100\n",
    "    mean = 0\n",
    "    std = 1 \n",
    "    num_samples = int(time_length*fs)\n",
    "    return np.random.normal(mean, std, size=num_samples)\n",
    "\n",
    "# Ausgabe von weißem Rauschen\n",
    "def Noise(Duration):\n",
    "    fs = 44100\n",
    "    fmax = 10000.0\n",
    "    Factor = fmax/Duration\n",
    "    t = np.linspace(0,Duration,fs*Duration)\n",
    "    signal = white_noise(Duration)\n",
    "    myrecording = sd.playrec(signal, fs, channels=1)\n",
    "    sd.wait() \n",
    "    myrecording = myrecording[:,0]\n",
    "    return myrecording\n",
    "                  \n",
    "# Durchfahren eines Frequenz-Sweeps\n",
    "def Sweep(Duration):\n",
    "    fs = 44100\n",
    "    fmax = 10000.0\n",
    "    Factor = fmax/Duration\n",
    "    t = np.linspace(0,Duration,fs*Duration)\n",
    "    signal =  0.9*np.sin(t**2*Factor*2*np.pi)\n",
    "    myrecording = sd.playrec(signal, fs, channels=1)\n",
    "    sd.wait()\n",
    "    myrecording = myrecording[:,0]\n",
    "    return myrecording\n",
    "\n",
    "# Durchführen einer FFT\n",
    "def doFFT(Array):\n",
    "    fs = 44100\n",
    "    data = Array\n",
    "    N = len(data)\n",
    "    T = 1.0/fs \n",
    "    fmax = fs/2.0\n",
    "    FT = scipy.fftpack.fft(data)\n",
    "    yf = np.abs(FT[0:len(FT)//2]) \n",
    "    xf = np.linspace(0.0, fmax, N//2)\n",
    "    return xf, yf"
   ]
  },
  {
   "cell_type": "markdown",
   "metadata": {},
   "source": [
    "### Schrittmotor\n",
    "Der Schrittmotor-Treiber ist über einen zwischengeschalteten Pegel-Wandler mit 3 Pins des Raspberry Pi verbunden.\n",
    "* Der ``DIR``-Pin gibt die Richtung an, in welche sich der Schrittmotor drehen soll. Ein Zustand gibt einen rechten Drehsinn vor und ein Zustand einen linken Drehsinn.\n",
    "* Der ``ENA``-Pin gibt vor, dass der Schrittmotor aktiviert wird. Die Spulen im Motor werden mit Strom versorgt und der Motor bringt sein Haltedrehmoment auf. Er kann also nicht gedreht werden. Dies ist für die Bewegung des Motors notwendig. Wird der Motor nicht bewegt kann der Motor deaktiviert werden.\n",
    "* Eine Änderung am ``PUL``-Pin von 0 auf 1 löst die Bewegung des Motors um einen Schritt aus. Die Zeit zwischen diesen Änderungen gibt die Geschwindigkeit des Motors vor.\n",
    "\n",
    "Im Folgenden werden die Grundeinstellungen für den Motor getätigt und eine Funktion definiert, welche die Bewegung des Motors um eine bestimmte Schrittzahl durchführt.\n",
    "\n",
    "Das Zahnrad am Motor hat 17 Zähne und das am Kugelresonator 66 Zähne. Am Treiber des Schrittmotors sind Mikroschritte eingestellt, sodass für eine Umdrehung des Motors 6400 Schritte notwendig sind. Daraus lässt sich eine theoretische Schrittzahl pro Grad berechnen. Diese sollte jedoch mit der Kamera überprüft werden. Absolut stehen Mikrophon und Kamera in einem 90°-Winkel zueinander, wenn auf der Kamera ein Wert von 0° angezeigt wird.\n",
    "\n",
    "Aufgrund des Spiels zwischen den beiden Zahnrädern sollte immer nur in eine Bewegungsrichtung gemessen werden."
   ]
  },
  {
   "cell_type": "code",
   "execution_count": null,
   "metadata": {},
   "outputs": [],
   "source": [
    "import RPi.GPIO as GPIO\n",
    "import time\n",
    "import numpy as np\n",
    "\n",
    "GPIO.setmode(GPIO.BOARD)\n",
    "\n",
    "DIR = 5\n",
    "PUL = 7\n",
    "ENA = 3\n",
    "\n",
    "DIR_Left = GPIO.HIGH\n",
    "DIR_Right = GPIO.LOW\n",
    "\n",
    "ENA_Locked = GPIO.LOW\n",
    "ENA_Released = GPIO.HIGH\n",
    "\n",
    "GPIO.setwarnings(False)\n",
    "GPIO.setup(DIR, GPIO.OUT)\n",
    "GPIO.setup(PUL, GPIO.OUT)\n",
    "GPIO.setup(ENA, GPIO.OUT)\n",
    "GPIO.output(ENA, ENA_Released)\n",
    "\n",
    "def go(steps):\n",
    "    if (steps < 0):\n",
    "        # Richtung festlegen\n",
    "        GPIO.output(DIR, DIR_Right)\n",
    "    else:\n",
    "        # Richtung festlegen\n",
    "        GPIO.output(DIR, DIR_Left)\n",
    "\n",
    "    # Motor aktivieren und halten\n",
    "    GPIO.output(ENA, ENA_Locked)\n",
    "\n",
    "    for i in range(np.abs(steps)):\n",
    "        # Puls modulieren\n",
    "        GPIO.output(PUL, GPIO.HIGH)\n",
    "        time.sleep(0.005)\n",
    "        GPIO.output(PUL, GPIO.LOW)\n",
    "        time.sleep(0.005)\n",
    "\n",
    "    # Motor freigeben\n",
    "    GPIO.output(ENA, ENA_Released)"
   ]
  },
  {
   "cell_type": "markdown",
   "metadata": {},
   "source": [
    "## Nützliche Funktionen für Messung und Auswertung\n",
    "\n",
    "### Kartesischer Plot"
   ]
  },
  {
   "cell_type": "code",
   "execution_count": 5,
   "metadata": {},
   "outputs": [
    {
     "data": {
      "text/plain": [
       "Text(0, 0.5, 'Sinus')"
      ]
     },
     "execution_count": 5,
     "metadata": {},
     "output_type": "execute_result"
    },
    {
     "data": {
      "image/png": "[encoded data removed]",
      "text/plain": [
       "<Figure size 432x288 with 1 Axes>"
      ]
     },
     "metadata": {
      "needs_background": "light"
     },
     "output_type": "display_data"
    }
   ],
   "source": [
    "x_data = np.arange(0,360,1)\n",
    "y_data = np.sin(np.deg2rad(x_data))\n",
    "plt.plot(x_data,y_data)\n",
    "plt.xlabel('Winkel in Grad')\n",
    "plt.ylabel('Sinus')"
   ]
  },
  {
   "cell_type": "markdown",
   "metadata": {},
   "source": [
    "### Polar-Plot und speichern als PDF"
   ]
  },
  {
   "cell_type": "code",
   "execution_count": 23,
   "metadata": {},
   "outputs": [
    {
     "data": {
      "image/png": "[encoded data removed]",
      "text/plain": [
       "<Figure size 432x288 with 1 Axes>"
      ]
     },
     "metadata": {
      "needs_background": "light"
     },
     "output_type": "display_data"
    }
   ],
   "source": [
    "theta = np.deg2rad(np.arange(0,360,1))\n",
    "r = np.sin(2*theta)\n",
    "plt.polar(theta,r)\n",
    "plt.savefig('MeinPolarPlot.pdf')"
   ]
  },
  {
   "cell_type": "markdown",
   "metadata": {},
   "source": [
    "### Speichern einer wav-Datei"
   ]
  },
  {
   "cell_type": "code",
   "execution_count": null,
   "metadata": {},
   "outputs": [],
   "source": [
    "from scipy.io.wavfile import write\n",
    "\n",
    "# Beispielsignal\n",
    "Duration = 2\n",
    "Frequency = 5000\n",
    "t = np.linspace(0,Duration,44100*Duration)\n",
    "signal = 0.9*np.sin(t*Frequency*2*np.pi)\n",
    "\n",
    "# Abspeichern\n",
    "write('MeineWaveDatei.wav', 44100, signal)"
   ]
  },
  {
   "cell_type": "markdown",
   "metadata": {},
   "source": [
    "### Speichern eines numpy-Arrays"
   ]
  },
  {
   "cell_type": "code",
   "execution_count": null,
   "metadata": {},
   "outputs": [],
   "source": [
    "x_data = np.arange(0,360,1)\n",
    "data = np.sin(np.deg2rad(x_data))\n",
    "np.savetxt('MeineDaten.txt', data, delimiter=',' )"
   ]
  },
  {
   "cell_type": "markdown",
   "metadata": {},
   "source": [
    "### Einlesen eines numpy-Arrays"
   ]
  },
  {
   "cell_type": "code",
   "execution_count": null,
   "metadata": {},
   "outputs": [],
   "source": [
    "f = np.loadtxt('MeineDaten.txt', delimiter=',' )"
   ]
  },
  {
   "cell_type": "markdown",
   "metadata": {},
   "source": [
    "## Umsetzung der Messungen durch die Gruppen\n",
    "Für die Speicherung der Daten einen Unterordner mit der Gruppennummer anlegen und dort abspeichern.\n",
    "Bitte in einer Kopie dieser Datei arbeiten und die Kopie ebenfalls im Gruppenordner abspeichern."
   ]
  },
  {
   "cell_type": "code",
   "execution_count": null,
   "metadata": {},
   "outputs": [],
   "source": []
  },
  {
   "cell_type": "code",
   "execution_count": null,
   "metadata": {},
   "outputs": [],
   "source": []
  },
  {
   "cell_type": "code",
   "execution_count": null,
   "metadata": {},
   "outputs": [],
   "source": []
  },
  {
   "cell_type": "code",
   "execution_count": null,
   "metadata": {},
   "outputs": [],
   "source": []
  },
  {
   "cell_type": "code",
   "execution_count": null,
   "metadata": {},
   "outputs": [],
   "source": []
  }
 ],
 "metadata": {
  "kernelspec": {
   "display_name": "Python 3",
   "language": "python",
   "name": "python3"
  },
  "language_info": {
   "codemirror_mode": {
    "name": "ipython",
    "version": 3
   },
   "file_extension": ".py",
   "mimetype": "text/x-python",
   "name": "python",
   "nbconvert_exporter": "python",
   "pygments_lexer": "ipython3",
   "version": "3.7.4"
  },
  "toc": {
   "base_numbering": 1,
   "nav_menu": {},
   "number_sections": true,
   "sideBar": true,
   "skip_h1_title": false,
   "title_cell": "Table of Contents",
   "title_sidebar": "Contents",
   "toc_cell": false,
   "toc_position": {
    "height": "calc(100% - 180px)",
    "left": "10px",
    "top": "150px",
    "width": "384px"
   },
   "toc_section_display": true,
   "toc_window_display": false
  },
  "varInspector": {
   "cols": {
    "lenName": 16,
    "lenType": 16,
    "lenVar": 40
   },
   "kernels_config": {
    "python": {
     "delete_cmd_postfix": "",
     "delete_cmd_prefix": "del ",
     "library": "var_list.py",
     "varRefreshCmd": "print(var_dic_list())"
    },
    "r": {
     "delete_cmd_postfix": ") ",
     "delete_cmd_prefix": "rm(",
     "library": "var_list.r",
     "varRefreshCmd": "cat(var_dic_list()) "
    }
   },
   "position": {
    "height": "509.85px",
    "left": "1423px",
    "right": "20px",
    "top": "120px",
    "width": "350px"
   },
   "types_to_exclude": [
    "module",
    "function",
    "builtin_function_or_method",
    "instance",
    "_Feature"
   ],
   "window_display": false
  }
 },
 "nbformat": 4,
 "nbformat_minor": 4
}
